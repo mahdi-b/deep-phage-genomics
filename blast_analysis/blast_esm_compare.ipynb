{
 "cells": [
  {
   "cell_type": "markdown",
   "id": "afccb3fb-de8d-4e3c-8fc0-f881bcd355ef",
   "metadata": {},
   "source": [
    "### Install dependencies"
   ]
  },
  {
   "cell_type": "code",
   "execution_count": 430,
   "id": "891a3772-a9d6-4453-82f8-5119b3750939",
   "metadata": {},
   "outputs": [],
   "source": [
    "#!pip install NetworkX\n",
    "#!pip install biopython\n",
    "#!pip install blosum"
   ]
  },
  {
   "cell_type": "markdown",
   "id": "4d3b3fc7-712c-49a1-b95c-32dba15ff980",
   "metadata": {},
   "source": [
    "### Imports"
   ]
  },
  {
   "cell_type": "code",
   "execution_count": 431,
   "id": "e60cf2b0-d1cc-4907-8b95-797a5a8c6867",
   "metadata": {
    "tags": []
   },
   "outputs": [],
   "source": [
    "from Bio.Blast.Applications import NcbiblastpCommandline\n",
    "from Bio import SeqIO\n",
    "from Bio.SeqRecord import SeqRecord\n",
    "import uuid\n",
    "from Bio.Seq import Seq\n",
    "import blosum as bl\n",
    "import re\n",
    "import pandas as pd\n",
    "import numpy as np\n",
    "import tqdm\n",
    "import torch\n",
    "import pandas as pd\n",
    "from Bio import SeqIO\n",
    "import networkx as nx"
   ]
  },
  {
   "cell_type": "markdown",
   "id": "6d559427-e4ad-48c0-90f1-202281d2eec2",
   "metadata": {},
   "source": [
    "### Extract data"
   ]
  },
  {
   "cell_type": "code",
   "execution_count": 432,
   "id": "953fad33-8c49-4113-b054-04f905c2808c",
   "metadata": {},
   "outputs": [],
   "source": [
    "# import tarfile\n",
    "  \n",
    "# # open file\n",
    "# file = tarfile.open('temp_outs.tar.gz')\n",
    "  \n",
    "# # extracting file\n",
    "# file.extractall('./')\n",
    "  \n",
    "# file.close()"
   ]
  },
  {
   "cell_type": "markdown",
   "id": "eccf5b31-0d79-49b0-ad99-10a57df85caf",
   "metadata": {},
   "source": [
    "### Align sequences with ESM (code mostly from Mahdi)"
   ]
  },
  {
   "cell_type": "code",
   "execution_count": 433,
   "id": "50a7c817-a0fb-4bb3-bcb8-9b5810277512",
   "metadata": {},
   "outputs": [
    {
     "data": {
      "text/plain": [
       "{'label': 'QBZ81690.1',\n",
       " 'representations': {36: tensor([[ 0.0305, -0.2712, -0.0361,  ..., -0.1840, -0.0522, -0.0922],\n",
       "          [ 0.1543, -0.1236, -0.0234,  ..., -0.0630, -0.2551,  0.0359],\n",
       "          [ 0.0661, -0.0476, -0.0673,  ..., -0.0502, -0.2257,  0.0975],\n",
       "          ...,\n",
       "          [ 0.0282,  0.0571,  0.0858,  ..., -0.0320, -0.1567,  0.0178],\n",
       "          [ 0.0330, -0.1428,  0.0135,  ..., -0.0338, -0.0357, -0.1182],\n",
       "          [-0.1102, -0.0696, -0.1198,  ..., -0.0898, -0.1002, -0.0122]])},\n",
       " 'mean_representations': {36: tensor([ 0.0314, -0.0491, -0.0131,  ..., -0.0286, -0.0542,  0.0002])}}"
      ]
     },
     "execution_count": 433,
     "metadata": {},
     "output_type": "execute_result"
    }
   ],
   "source": [
    "seq_1 = torch.load(f\"temp_outs\\outputs\\QBZ81690.1.pt\")\n",
    "seq_2 = torch.load(f\"temp_outs\\outputs\\AGO83968.2.pt\")\n",
    "seq_1"
   ]
  },
  {
   "cell_type": "code",
   "execution_count": 434,
   "id": "4e5c6d4e-3683-4777-a965-0c14d8689fec",
   "metadata": {},
   "outputs": [
    {
     "data": {
      "text/html": [
       "<div>\n",
       "<style scoped>\n",
       "    .dataframe tbody tr th:only-of-type {\n",
       "        vertical-align: middle;\n",
       "    }\n",
       "\n",
       "    .dataframe tbody tr th {\n",
       "        vertical-align: top;\n",
       "    }\n",
       "\n",
       "    .dataframe thead th {\n",
       "        text-align: right;\n",
       "    }\n",
       "</style>\n",
       "<table border=\"1\" class=\"dataframe\">\n",
       "  <thead>\n",
       "    <tr style=\"text-align: right;\">\n",
       "      <th></th>\n",
       "      <th>0</th>\n",
       "      <th>1</th>\n",
       "      <th>2</th>\n",
       "      <th>3</th>\n",
       "      <th>4</th>\n",
       "      <th>5</th>\n",
       "      <th>6</th>\n",
       "      <th>7</th>\n",
       "      <th>8</th>\n",
       "      <th>9</th>\n",
       "      <th>...</th>\n",
       "      <th>98</th>\n",
       "      <th>99</th>\n",
       "      <th>100</th>\n",
       "      <th>101</th>\n",
       "      <th>102</th>\n",
       "      <th>103</th>\n",
       "      <th>104</th>\n",
       "      <th>105</th>\n",
       "      <th>106</th>\n",
       "      <th>107</th>\n",
       "    </tr>\n",
       "  </thead>\n",
       "  <tbody>\n",
       "    <tr>\n",
       "      <th>0</th>\n",
       "      <td>4.85</td>\n",
       "      <td>7.74</td>\n",
       "      <td>7.44</td>\n",
       "      <td>7.62</td>\n",
       "      <td>7.52</td>\n",
       "      <td>7.21</td>\n",
       "      <td>7.61</td>\n",
       "      <td>7.44</td>\n",
       "      <td>7.18</td>\n",
       "      <td>7.28</td>\n",
       "      <td>...</td>\n",
       "      <td>6.24</td>\n",
       "      <td>6.36</td>\n",
       "      <td>6.65</td>\n",
       "      <td>6.82</td>\n",
       "      <td>6.46</td>\n",
       "      <td>6.24</td>\n",
       "      <td>6.15</td>\n",
       "      <td>6.01</td>\n",
       "      <td>6.34</td>\n",
       "      <td>6.48</td>\n",
       "    </tr>\n",
       "    <tr>\n",
       "      <th>1</th>\n",
       "      <td>7.78</td>\n",
       "      <td>7.29</td>\n",
       "      <td>7.96</td>\n",
       "      <td>8.19</td>\n",
       "      <td>7.94</td>\n",
       "      <td>7.76</td>\n",
       "      <td>8.02</td>\n",
       "      <td>8.16</td>\n",
       "      <td>6.97</td>\n",
       "      <td>7.92</td>\n",
       "      <td>...</td>\n",
       "      <td>7.32</td>\n",
       "      <td>7.48</td>\n",
       "      <td>6.56</td>\n",
       "      <td>7.47</td>\n",
       "      <td>7.37</td>\n",
       "      <td>7.08</td>\n",
       "      <td>6.90</td>\n",
       "      <td>6.80</td>\n",
       "      <td>7.03</td>\n",
       "      <td>7.06</td>\n",
       "    </tr>\n",
       "    <tr>\n",
       "      <th>2</th>\n",
       "      <td>7.28</td>\n",
       "      <td>7.33</td>\n",
       "      <td>7.06</td>\n",
       "      <td>7.43</td>\n",
       "      <td>6.92</td>\n",
       "      <td>6.78</td>\n",
       "      <td>7.45</td>\n",
       "      <td>7.38</td>\n",
       "      <td>7.08</td>\n",
       "      <td>6.97</td>\n",
       "      <td>...</td>\n",
       "      <td>6.10</td>\n",
       "      <td>6.50</td>\n",
       "      <td>6.66</td>\n",
       "      <td>6.32</td>\n",
       "      <td>6.13</td>\n",
       "      <td>6.07</td>\n",
       "      <td>5.90</td>\n",
       "      <td>5.94</td>\n",
       "      <td>6.17</td>\n",
       "      <td>6.29</td>\n",
       "    </tr>\n",
       "    <tr>\n",
       "      <th>3</th>\n",
       "      <td>7.18</td>\n",
       "      <td>7.67</td>\n",
       "      <td>7.11</td>\n",
       "      <td>7.23</td>\n",
       "      <td>7.23</td>\n",
       "      <td>6.96</td>\n",
       "      <td>7.19</td>\n",
       "      <td>7.27</td>\n",
       "      <td>7.15</td>\n",
       "      <td>7.04</td>\n",
       "      <td>...</td>\n",
       "      <td>5.16</td>\n",
       "      <td>5.61</td>\n",
       "      <td>6.76</td>\n",
       "      <td>6.65</td>\n",
       "      <td>4.90</td>\n",
       "      <td>4.80</td>\n",
       "      <td>5.86</td>\n",
       "      <td>5.65</td>\n",
       "      <td>6.08</td>\n",
       "      <td>6.43</td>\n",
       "    </tr>\n",
       "    <tr>\n",
       "      <th>4</th>\n",
       "      <td>6.94</td>\n",
       "      <td>7.04</td>\n",
       "      <td>6.88</td>\n",
       "      <td>7.00</td>\n",
       "      <td>6.83</td>\n",
       "      <td>6.72</td>\n",
       "      <td>7.06</td>\n",
       "      <td>6.98</td>\n",
       "      <td>6.90</td>\n",
       "      <td>6.79</td>\n",
       "      <td>...</td>\n",
       "      <td>5.89</td>\n",
       "      <td>6.30</td>\n",
       "      <td>6.44</td>\n",
       "      <td>6.50</td>\n",
       "      <td>5.93</td>\n",
       "      <td>5.53</td>\n",
       "      <td>5.38</td>\n",
       "      <td>5.39</td>\n",
       "      <td>5.81</td>\n",
       "      <td>6.09</td>\n",
       "    </tr>\n",
       "    <tr>\n",
       "      <th>...</th>\n",
       "      <td>...</td>\n",
       "      <td>...</td>\n",
       "      <td>...</td>\n",
       "      <td>...</td>\n",
       "      <td>...</td>\n",
       "      <td>...</td>\n",
       "      <td>...</td>\n",
       "      <td>...</td>\n",
       "      <td>...</td>\n",
       "      <td>...</td>\n",
       "      <td>...</td>\n",
       "      <td>...</td>\n",
       "      <td>...</td>\n",
       "      <td>...</td>\n",
       "      <td>...</td>\n",
       "      <td>...</td>\n",
       "      <td>...</td>\n",
       "      <td>...</td>\n",
       "      <td>...</td>\n",
       "      <td>...</td>\n",
       "      <td>...</td>\n",
       "    </tr>\n",
       "    <tr>\n",
       "      <th>94</th>\n",
       "      <td>6.73</td>\n",
       "      <td>7.26</td>\n",
       "      <td>6.89</td>\n",
       "      <td>7.00</td>\n",
       "      <td>6.54</td>\n",
       "      <td>5.83</td>\n",
       "      <td>6.99</td>\n",
       "      <td>6.91</td>\n",
       "      <td>6.42</td>\n",
       "      <td>6.58</td>\n",
       "      <td>...</td>\n",
       "      <td>5.15</td>\n",
       "      <td>5.68</td>\n",
       "      <td>5.81</td>\n",
       "      <td>5.82</td>\n",
       "      <td>5.24</td>\n",
       "      <td>4.84</td>\n",
       "      <td>3.61</td>\n",
       "      <td>4.52</td>\n",
       "      <td>5.04</td>\n",
       "      <td>5.47</td>\n",
       "    </tr>\n",
       "    <tr>\n",
       "      <th>95</th>\n",
       "      <td>7.01</td>\n",
       "      <td>7.47</td>\n",
       "      <td>7.12</td>\n",
       "      <td>7.47</td>\n",
       "      <td>6.89</td>\n",
       "      <td>6.76</td>\n",
       "      <td>7.27</td>\n",
       "      <td>7.35</td>\n",
       "      <td>6.78</td>\n",
       "      <td>6.77</td>\n",
       "      <td>...</td>\n",
       "      <td>5.82</td>\n",
       "      <td>6.21</td>\n",
       "      <td>6.13</td>\n",
       "      <td>6.37</td>\n",
       "      <td>5.70</td>\n",
       "      <td>5.29</td>\n",
       "      <td>5.10</td>\n",
       "      <td>4.82</td>\n",
       "      <td>5.43</td>\n",
       "      <td>5.90</td>\n",
       "    </tr>\n",
       "    <tr>\n",
       "      <th>96</th>\n",
       "      <td>6.74</td>\n",
       "      <td>7.25</td>\n",
       "      <td>6.88</td>\n",
       "      <td>7.10</td>\n",
       "      <td>6.58</td>\n",
       "      <td>5.84</td>\n",
       "      <td>6.94</td>\n",
       "      <td>6.98</td>\n",
       "      <td>6.63</td>\n",
       "      <td>6.58</td>\n",
       "      <td>...</td>\n",
       "      <td>5.30</td>\n",
       "      <td>5.81</td>\n",
       "      <td>5.82</td>\n",
       "      <td>5.88</td>\n",
       "      <td>5.28</td>\n",
       "      <td>4.91</td>\n",
       "      <td>3.84</td>\n",
       "      <td>4.44</td>\n",
       "      <td>4.80</td>\n",
       "      <td>5.37</td>\n",
       "    </tr>\n",
       "    <tr>\n",
       "      <th>97</th>\n",
       "      <td>7.12</td>\n",
       "      <td>7.52</td>\n",
       "      <td>7.38</td>\n",
       "      <td>7.54</td>\n",
       "      <td>7.10</td>\n",
       "      <td>6.96</td>\n",
       "      <td>7.25</td>\n",
       "      <td>7.33</td>\n",
       "      <td>6.98</td>\n",
       "      <td>7.20</td>\n",
       "      <td>...</td>\n",
       "      <td>5.98</td>\n",
       "      <td>6.23</td>\n",
       "      <td>6.38</td>\n",
       "      <td>6.48</td>\n",
       "      <td>5.85</td>\n",
       "      <td>5.49</td>\n",
       "      <td>5.29</td>\n",
       "      <td>4.96</td>\n",
       "      <td>5.08</td>\n",
       "      <td>5.76</td>\n",
       "    </tr>\n",
       "    <tr>\n",
       "      <th>98</th>\n",
       "      <td>7.21</td>\n",
       "      <td>7.60</td>\n",
       "      <td>7.45</td>\n",
       "      <td>7.50</td>\n",
       "      <td>7.18</td>\n",
       "      <td>7.12</td>\n",
       "      <td>7.46</td>\n",
       "      <td>7.37</td>\n",
       "      <td>7.17</td>\n",
       "      <td>7.23</td>\n",
       "      <td>...</td>\n",
       "      <td>6.13</td>\n",
       "      <td>6.41</td>\n",
       "      <td>6.69</td>\n",
       "      <td>6.74</td>\n",
       "      <td>6.15</td>\n",
       "      <td>5.91</td>\n",
       "      <td>5.80</td>\n",
       "      <td>5.67</td>\n",
       "      <td>5.63</td>\n",
       "      <td>5.05</td>\n",
       "    </tr>\n",
       "  </tbody>\n",
       "</table>\n",
       "<p>99 rows × 108 columns</p>\n",
       "</div>"
      ],
      "text/plain": [
       "     0     1     2     3     4     5     6     7     8     9    ...   98   \\\n",
       "0   4.85  7.74  7.44  7.62  7.52  7.21  7.61  7.44  7.18  7.28  ...  6.24   \n",
       "1   7.78  7.29  7.96  8.19  7.94  7.76  8.02  8.16  6.97  7.92  ...  7.32   \n",
       "2   7.28  7.33  7.06  7.43  6.92  6.78  7.45  7.38  7.08  6.97  ...  6.10   \n",
       "3   7.18  7.67  7.11  7.23  7.23  6.96  7.19  7.27  7.15  7.04  ...  5.16   \n",
       "4   6.94  7.04  6.88  7.00  6.83  6.72  7.06  6.98  6.90  6.79  ...  5.89   \n",
       "..   ...   ...   ...   ...   ...   ...   ...   ...   ...   ...  ...   ...   \n",
       "94  6.73  7.26  6.89  7.00  6.54  5.83  6.99  6.91  6.42  6.58  ...  5.15   \n",
       "95  7.01  7.47  7.12  7.47  6.89  6.76  7.27  7.35  6.78  6.77  ...  5.82   \n",
       "96  6.74  7.25  6.88  7.10  6.58  5.84  6.94  6.98  6.63  6.58  ...  5.30   \n",
       "97  7.12  7.52  7.38  7.54  7.10  6.96  7.25  7.33  6.98  7.20  ...  5.98   \n",
       "98  7.21  7.60  7.45  7.50  7.18  7.12  7.46  7.37  7.17  7.23  ...  6.13   \n",
       "\n",
       "     99    100   101   102   103   104   105   106   107  \n",
       "0   6.36  6.65  6.82  6.46  6.24  6.15  6.01  6.34  6.48  \n",
       "1   7.48  6.56  7.47  7.37  7.08  6.90  6.80  7.03  7.06  \n",
       "2   6.50  6.66  6.32  6.13  6.07  5.90  5.94  6.17  6.29  \n",
       "3   5.61  6.76  6.65  4.90  4.80  5.86  5.65  6.08  6.43  \n",
       "4   6.30  6.44  6.50  5.93  5.53  5.38  5.39  5.81  6.09  \n",
       "..   ...   ...   ...   ...   ...   ...   ...   ...   ...  \n",
       "94  5.68  5.81  5.82  5.24  4.84  3.61  4.52  5.04  5.47  \n",
       "95  6.21  6.13  6.37  5.70  5.29  5.10  4.82  5.43  5.90  \n",
       "96  5.81  5.82  5.88  5.28  4.91  3.84  4.44  4.80  5.37  \n",
       "97  6.23  6.38  6.48  5.85  5.49  5.29  4.96  5.08  5.76  \n",
       "98  6.41  6.69  6.74  6.15  5.91  5.80  5.67  5.63  5.05  \n",
       "\n",
       "[99 rows x 108 columns]"
      ]
     },
     "execution_count": 434,
     "metadata": {},
     "output_type": "execute_result"
    }
   ],
   "source": [
    "# Compute all pairwise distances\n",
    "data = []\n",
    "for i in range(seq_1[\"representations\"][36].shape[0]):\n",
    "    line = []\n",
    "    for j in range(seq_2[\"representations\"][36].shape[0]):\n",
    "        v1 = seq_1[\"representations\"][36][i]\n",
    "        v2 = seq_2[\"representations\"][36][j]\n",
    "        line.append(round(torch.cdist(v1.unsqueeze(0), v2.unsqueeze(0)).item(), 2))\n",
    "    data.append(line)\n",
    "    \n",
    "\n",
    "# Write the matrix to the excel sheet    \n",
    "data = pd.DataFrame(data)\n",
    "data"
   ]
  },
  {
   "cell_type": "code",
   "execution_count": 435,
   "id": "b3e718ce-03e0-4139-814f-5857f4510f20",
   "metadata": {},
   "outputs": [
    {
     "data": {
      "text/plain": [
       "['QBZ81690.1', 'AGO83968.2']"
      ]
     },
     "execution_count": 435,
     "metadata": {},
     "output_type": "execute_result"
    }
   ],
   "source": [
    "seqs = SeqIO.to_dict(SeqIO.parse(\"test/ab.fa\", 'fasta'))\n",
    "\n",
    "seq_ids = list(seqs.keys())\n",
    "seq_ids = [seq_ids[0]] + [seq_ids[1]]\n",
    "seq_ids"
   ]
  },
  {
   "cell_type": "code",
   "execution_count": 436,
   "id": "42850e5f-3a29-4836-991e-0fed417134c4",
   "metadata": {
    "tags": []
   },
   "outputs": [
    {
     "data": {
      "text/plain": [
       "[(38, 23),\n",
       " (16, 84),\n",
       " (78, 68),\n",
       " (96, 104),\n",
       " (36, 71),\n",
       " (27, 13),\n",
       " (18, 44),\n",
       " (79, 60),\n",
       " (29, 41),\n",
       " (74, 73)]"
      ]
     },
     "execution_count": 436,
     "metadata": {},
     "output_type": "execute_result"
    }
   ],
   "source": [
    "top_n = 5\n",
    "rows = pd.DataFrame({n: data.T[col].nsmallest(top_n).index.tolist() \n",
    "                  for n, col in enumerate(data.T)}).T\n",
    "\n",
    "cols = pd.DataFrame({n: data[row].nsmallest(top_n).index.tolist() \n",
    "                  for n, row in enumerate(data)})\n",
    "\n",
    "matches = set()\n",
    "for i, n_cols in enumerate(rows.values):\n",
    "    for c in n_cols:\n",
    "        if i in cols.iloc[:, c].values:\n",
    "            matches.add((i, int(c)))\n",
    "\n",
    "temp_set = set()\n",
    "for match in matches:\n",
    "    if match[0] > 0 and match[1] > 0 and (seqs[seq_ids[0]][match[0]-1] ==  seqs[seq_ids[1]][match[1]-1]):\n",
    "            temp_set.add((match[0]-1, match[1]-1))\n",
    "            #if sheet[(match[0]+1, match[1]+1)].color is None:\n",
    "            #    sheet[(match[0]+1, match[1]+1)].color = \"#82C341\"\n",
    "    if match[0] < len(seqs[seq_ids[0]]) - 1  and match[1] < len(seqs[seq_ids[1]])-1 and  (seqs[seq_ids[0]][match[0]+1] ==  seqs[seq_ids[1]][match[1]+1]):\n",
    "            temp_set.add((match[0]+1, match[1]+1))\n",
    "            #if sheet[(match[0]+1, match[1]+1)].color is None:\n",
    "            #    sheet[( match[0]+3, match[1]+3)].color = \"#82C341\"\n",
    "\n",
    "matches = matches.union(temp_set)\n",
    "list(matches)[0:10]"
   ]
  },
  {
   "cell_type": "code",
   "execution_count": 437,
   "id": "05968360-c71d-4aee-92bb-a8679e3a355e",
   "metadata": {
    "tags": []
   },
   "outputs": [
    {
     "data": {
      "text/plain": [
       "[(0, 0),\n",
       " (9, 13),\n",
       " (10, 14),\n",
       " (12, 15),\n",
       " (13, 22),\n",
       " (14, 25),\n",
       " (26, 28),\n",
       " (29, 41),\n",
       " (32, 47),\n",
       " (37, 49)]"
      ]
     },
     "execution_count": 437,
     "metadata": {},
     "output_type": "execute_result"
    }
   ],
   "source": [
    "def build_paths_graph(matches):\n",
    "    graph = nx.DiGraph()\n",
    "    dag = {}\n",
    "    max_depth = max([x[0] for x in matches])\n",
    "    sorted_matches = sorted(matches, key=lambda x: x[1])\n",
    "    for i in range(len(sorted_matches) - 1):\n",
    "        last_depth =  max_depth\n",
    "        dag[sorted_matches[i]] = []\n",
    "        #print(f\"Comparing {sorted_matches[i]} and {sorted_matches[j]}\")\n",
    "        for j in range(i+1, len(sorted_matches)):\n",
    "            if (sorted_matches[j][0]) < last_depth and  (sorted_matches[j][0] >  sorted_matches[i][0]):\n",
    "                dag[sorted_matches[i]].append(sorted_matches[j])\n",
    "                seq_1_idx, seq_2_idx = sorted_matches[j]\n",
    "                graph.add_edge(sorted_matches[i], sorted_matches[j], weigth=data.iloc[seq_1_idx, seq_2_idx])\n",
    "                last_depth = sorted_matches[j][0]\n",
    "    return graph\n",
    "\n",
    "\n",
    "graph = build_paths_graph(matches)\n",
    "esmAlignment = nx.dag_longest_path(graph)\n",
    "#len(esmAlignment)\n",
    "esmAlignment[0:10]"
   ]
  },
  {
   "cell_type": "markdown",
   "id": "40697a74-49fb-4ea4-8536-f16ad9a2a4a8",
   "metadata": {},
   "source": [
    "### Align sequences with BLAST"
   ]
  },
  {
   "cell_type": "code",
   "execution_count": 438,
   "id": "d0cc2d8c-feac-495a-bf85-3d672850c955",
   "metadata": {},
   "outputs": [
    {
     "data": {
      "text/plain": [
       "'MGQANTTIKGYSAVSQDALFATYGITEGDYQAKASAAIERIRAMPEGYASPEDRAAAINAIRTGTCGDDTELLTRVRAALDRWQRDCASTGHALKSKVV'"
      ]
     },
     "execution_count": 438,
     "metadata": {},
     "output_type": "execute_result"
    }
   ],
   "source": [
    "seqs = SeqIO.to_dict(SeqIO.parse(\"test/ab.fa\", 'fasta'))\n",
    "str(seqs['QBZ81690.1'].seq)"
   ]
  },
  {
   "cell_type": "code",
   "execution_count": 439,
   "id": "3669b8b6-31ad-45b1-aded-5d4aad8cf500",
   "metadata": {
    "tags": []
   },
   "outputs": [
    {
     "data": {
      "text/plain": [
       "'MGQANTTIKGYSAVSQDALFATYGITEGDYQAKASAAIERIRAMPEGYASPEDRAAAINAIRTGTCGDDTELLTRVRAALDRWQRDCASTGHALKSKVV'"
      ]
     },
     "execution_count": 439,
     "metadata": {},
     "output_type": "execute_result"
    }
   ],
   "source": [
    "data = ['', 'QBZ81690.1', '', 'AGO83968.2']\n",
    "\n",
    "seq1 = SeqRecord(seqs[data[1]].seq,\n",
    "                 id=seqs[data[1]].id)\n",
    "seq2 = SeqRecord(seqs[data[3]].seq,\n",
    "                 id=seqs[data[3]].id)\n",
    "SeqIO.write(seq1, f\"seq_1.fasta\", \"fasta\")\n",
    "SeqIO.write(seq2, f\"seq_2.fasta\", \"fasta\")\n",
    "\n",
    "str(seq1.seq)"
   ]
  },
  {
   "cell_type": "code",
   "execution_count": 440,
   "id": "8a8cce38-1d3c-4517-8ada-fb93914117e7",
   "metadata": {
    "tags": []
   },
   "outputs": [
    {
     "name": "stdout",
     "output_type": "stream",
     "text": [
      "29\tDYQAKASAAIERIRAMPEGYASPEDRAAAINAIRTGTCGDDTELLTRVRAALDRWQRDCAS\t41\tEYAELKEKTIRIIVALPTQYLSADKGRAAIEAIRSGEPGREA-LYDEVWDAAMAYSRDIAA\n",
      "16\tQDALF\t80\tREALY\n",
      "\n"
     ]
    }
   ],
   "source": [
    "output = NcbiblastpCommandline(query=f\"seq_1.fasta\", subject=f\"seq_2.fasta\", outfmt=\"6 qstart qseq sstart sseq\")()[0]\n",
    "if len(output) < 2:\n",
    "    output = f\"{seqs[data[1]].id}\\t{seqs[data[3]].id}\\t NO_HIT\"\n",
    "#output = output.split(\"\\n\")\n",
    "print(output)"
   ]
  },
  {
   "cell_type": "code",
   "execution_count": 441,
   "id": "f055702e-a8ff-4357-af8b-933f493907e9",
   "metadata": {},
   "outputs": [
    {
     "data": {
      "text/plain": [
       "[1, 2, 3, 4, -1, 5, 6, 7]"
      ]
     },
     "execution_count": 441,
     "metadata": {},
     "output_type": "execute_result"
    }
   ],
   "source": [
    "# Enumerate the BLAST output string based on the \n",
    "def GetBlastIndices(start, blast):\n",
    "    start = int(start) - 1 # BLAST outputs 1-based indices\n",
    "    \n",
    "    indices = [i for i in range(start, start + len(blast))]\n",
    "    \n",
    "    gaps = [i for i, c in enumerate(blast) if c == \"-\"]\n",
    "    \n",
    "    for gap in gaps:\n",
    "        indices.insert(gap, -1)\n",
    "        \n",
    "    return indices[0:len(blast)]\n",
    "\n",
    "GetBlastIndices(2, \"abcd-efg\")"
   ]
  },
  {
   "cell_type": "code",
   "execution_count": 442,
   "id": "11f62614-2c72-4467-9d4c-056e980a4bd0",
   "metadata": {},
   "outputs": [
    {
     "data": {
      "text/plain": [
       "[(1, 0), (2, 1), (3, 2), (4, -1), (5, 3)]"
      ]
     },
     "execution_count": 442,
     "metadata": {},
     "output_type": "execute_result"
    }
   ],
   "source": [
    "def GetBlastAlignRegion(start1, blast1, start2, blast2):\n",
    "    i1 = GetBlastIndices(start1, blast1)\n",
    "    i2 = GetBlastIndices(start2, blast2)\n",
    "    \n",
    "    return list(zip(i1, i2))\n",
    "\n",
    "testBlastIndices = GetBlastAlignRegion(2, \"abcde\", 1, \"wxy-z\")\n",
    "testBlastIndices"
   ]
  },
  {
   "cell_type": "code",
   "execution_count": 443,
   "id": "d5727eae-d9c3-40e4-ae43-a233e8fa5e97",
   "metadata": {},
   "outputs": [
    {
     "data": {
      "text/plain": [
       "[[(28, 40),\n",
       "  (29, 41),\n",
       "  (30, 42),\n",
       "  (31, 43),\n",
       "  (32, 44),\n",
       "  (33, 45),\n",
       "  (34, 46),\n",
       "  (35, 47),\n",
       "  (36, 48),\n",
       "  (37, 49)],\n",
       " [(15, 79), (16, 80), (17, 81), (18, 82), (19, 83)]]"
      ]
     },
     "execution_count": 443,
     "metadata": {},
     "output_type": "execute_result"
    }
   ],
   "source": [
    "def BlastAlign(file1, file2):\n",
    "    blastRaw = NcbiblastpCommandline(query=file1, subject=file2, outfmt=\"6 qstart qseq sstart sseq\")()[0]\n",
    "    blastLines = blastRaw.splitlines()\n",
    "    blastFields = [re.split(r'\\t+', line) for line in blastLines]\n",
    "    \n",
    "    alignments = [GetBlastAlignRegion(*blast) for blast in blastFields]\n",
    "    \n",
    "    return alignments\n",
    "    \n",
    "blastAlignments = BlastAlign(f\"seq_1.fasta\", f\"seq_2.fasta\")\n",
    "#blastAlignments\n",
    "[seq[0:10] for seq in blastAlignments]"
   ]
  },
  {
   "cell_type": "markdown",
   "id": "9c5882dd-257e-4e5e-b4e0-4033436b43fa",
   "metadata": {},
   "source": [
    "### Concatenate BLAST sequences if they don't overlap"
   ]
  },
  {
   "cell_type": "code",
   "execution_count": 444,
   "id": "ab8ee6ce-3083-4e32-84d8-a075025b9242",
   "metadata": {},
   "outputs": [
    {
     "data": {
      "text/plain": [
       "([(28, 40),\n",
       "  (29, 41),\n",
       "  (30, 42),\n",
       "  (31, 43),\n",
       "  (32, 44),\n",
       "  (33, 45),\n",
       "  (34, 46),\n",
       "  (35, 47),\n",
       "  (36, 48),\n",
       "  (37, 49)],\n",
       " [0])"
      ]
     },
     "execution_count": 444,
     "metadata": {},
     "output_type": "execute_result"
    }
   ],
   "source": [
    "def BlastConcat(aligns):\n",
    "    alignUnzip = [list(zip(*align)) for align in aligns]\n",
    "    \n",
    "    query = list(alignUnzip[0][0])\n",
    "    subject = list(alignUnzip[0][1])\n",
    "    \n",
    "    alignWasUsed = [True]\n",
    "    \n",
    "    for q,s in alignUnzip[1:]:\n",
    "        if (max(min(query), min(q)) > min(max(query), max(q))) and (max(min(subject), min(s)) > min(max(subject), max(s))):\n",
    "        #if set(query).isdisjoint(set(q)) and set(subject).isdisjoint(set(s)):\n",
    "            query = query + list(q)\n",
    "            subject = subject + list(s)\n",
    "            alignWasUsed.append(True)\n",
    "        else:\n",
    "            alignWasUsed.append(False)\n",
    "            \n",
    "    alignsUsed = [i for i,b in enumerate(alignWasUsed) if b]\n",
    "            \n",
    "    return list(zip(query, subject)), alignsUsed\n",
    "    \n",
    "#BlastConcat([[(1,1), (1,2), (2,3), (5,5)], [(1,1), (2,2)], [(4,4), (6,7)]])\n",
    "blastBestAlign, blastAlignsUsed = BlastConcat(blastAlignments)\n",
    "blastBestAlign[0:10], blastAlignsUsed"
   ]
  },
  {
   "cell_type": "markdown",
   "id": "94d670b2-483e-446a-9c60-3e30f3d7399d",
   "metadata": {},
   "source": [
    "### Combine the results"
   ]
  },
  {
   "cell_type": "code",
   "execution_count": 445,
   "id": "73863bd9-3b39-4f64-a7a7-81858554c60a",
   "metadata": {},
   "outputs": [
    {
     "data": {
      "text/plain": [
       "[0.0, 1.0, 2.0, 2.5, 3.0, 3.5]"
      ]
     },
     "execution_count": 445,
     "metadata": {},
     "output_type": "execute_result"
    }
   ],
   "source": [
    "# If there are indices of -1, we want to fill them with the previous index + 0.5 to keep them sorted in place.\n",
    "def CreateSortableIndex(indices):\n",
    "    result = []\n",
    "    j = -1\n",
    "    for i in indices:\n",
    "        if i < 0:\n",
    "            result.append(j + 0.5)\n",
    "        else:\n",
    "            result.append(float(i))\n",
    "            j = i\n",
    "    return result\n",
    "\n",
    "CreateSortableIndex([0, 1, 2, -1, 3, -1])"
   ]
  },
  {
   "cell_type": "code",
   "execution_count": 446,
   "id": "ebc411e0-4c39-48a2-90be-8fbcd766034e",
   "metadata": {},
   "outputs": [
    {
     "data": {
      "text/html": [
       "<div>\n",
       "<style scoped>\n",
       "    .dataframe tbody tr th:only-of-type {\n",
       "        vertical-align: middle;\n",
       "    }\n",
       "\n",
       "    .dataframe tbody tr th {\n",
       "        vertical-align: top;\n",
       "    }\n",
       "\n",
       "    .dataframe thead th {\n",
       "        text-align: right;\n",
       "    }\n",
       "</style>\n",
       "<table border=\"1\" class=\"dataframe\">\n",
       "  <thead>\n",
       "    <tr style=\"text-align: right;\">\n",
       "      <th></th>\n",
       "      <th>QLoc</th>\n",
       "      <th>SLoc</th>\n",
       "      <th>Align1</th>\n",
       "      <th>Align2</th>\n",
       "    </tr>\n",
       "  </thead>\n",
       "  <tbody>\n",
       "    <tr>\n",
       "      <th>0</th>\n",
       "      <td>0</td>\n",
       "      <td>0</td>\n",
       "      <td>False</td>\n",
       "      <td>True</td>\n",
       "    </tr>\n",
       "    <tr>\n",
       "      <th>1</th>\n",
       "      <td>9</td>\n",
       "      <td>13</td>\n",
       "      <td>False</td>\n",
       "      <td>True</td>\n",
       "    </tr>\n",
       "    <tr>\n",
       "      <th>2</th>\n",
       "      <td>10</td>\n",
       "      <td>14</td>\n",
       "      <td>False</td>\n",
       "      <td>True</td>\n",
       "    </tr>\n",
       "    <tr>\n",
       "      <th>3</th>\n",
       "      <td>12</td>\n",
       "      <td>15</td>\n",
       "      <td>False</td>\n",
       "      <td>True</td>\n",
       "    </tr>\n",
       "    <tr>\n",
       "      <th>4</th>\n",
       "      <td>13</td>\n",
       "      <td>22</td>\n",
       "      <td>False</td>\n",
       "      <td>True</td>\n",
       "    </tr>\n",
       "    <tr>\n",
       "      <th>5</th>\n",
       "      <td>14</td>\n",
       "      <td>25</td>\n",
       "      <td>False</td>\n",
       "      <td>True</td>\n",
       "    </tr>\n",
       "    <tr>\n",
       "      <th>6</th>\n",
       "      <td>26</td>\n",
       "      <td>28</td>\n",
       "      <td>False</td>\n",
       "      <td>True</td>\n",
       "    </tr>\n",
       "    <tr>\n",
       "      <th>7</th>\n",
       "      <td>28</td>\n",
       "      <td>40</td>\n",
       "      <td>True</td>\n",
       "      <td>False</td>\n",
       "    </tr>\n",
       "    <tr>\n",
       "      <th>8</th>\n",
       "      <td>29</td>\n",
       "      <td>41</td>\n",
       "      <td>True</td>\n",
       "      <td>True</td>\n",
       "    </tr>\n",
       "    <tr>\n",
       "      <th>9</th>\n",
       "      <td>30</td>\n",
       "      <td>42</td>\n",
       "      <td>True</td>\n",
       "      <td>False</td>\n",
       "    </tr>\n",
       "  </tbody>\n",
       "</table>\n",
       "</div>"
      ],
      "text/plain": [
       "   QLoc  SLoc  Align1  Align2\n",
       "0     0     0   False    True\n",
       "1     9    13   False    True\n",
       "2    10    14   False    True\n",
       "3    12    15   False    True\n",
       "4    13    22   False    True\n",
       "5    14    25   False    True\n",
       "6    26    28   False    True\n",
       "7    28    40    True   False\n",
       "8    29    41    True    True\n",
       "9    30    42    True   False"
      ]
     },
     "execution_count": 446,
     "metadata": {},
     "output_type": "execute_result"
    }
   ],
   "source": [
    "def InterweaveAlignments(align1, align2):\n",
    "    (indices11, indices12) = map(list, zip(*align1))\n",
    "    (indices21, indices22) = map(list, zip(*align2))\n",
    "    \n",
    "    sort11 = CreateSortableIndex(indices11)\n",
    "    sort12 = CreateSortableIndex(indices12)\n",
    "    sort21 = CreateSortableIndex(indices21)\n",
    "    sort22 = CreateSortableIndex(indices22)\n",
    "    \n",
    "    df1 = pd.DataFrame(data={\"Sort\": zip(sort11, sort12), \"QLoc\": indices11, \"SLoc\": indices12, \"Align1\": True})\n",
    "    df2 = pd.DataFrame(data={\"Sort\": zip(sort21, sort22), \"QLoc\": indices21, \"SLoc\": indices22, \"Align2\": True})\n",
    "    \n",
    "    df = pd.merge(df1, df2, on=[\"Sort\", \"QLoc\", \"SLoc\"], how=\"outer\", sort=True).fillna(False)\n",
    "    df = df.drop(columns=[\"Sort\"])\n",
    "    \n",
    "    return df\n",
    "    \n",
    "testAligns = InterweaveAlignments(blastBestAlign, esmAlignment)\n",
    "testAligns[0:10]"
   ]
  },
  {
   "cell_type": "code",
   "execution_count": 447,
   "id": "30965db1-3efc-42e4-8a05-72741a4d04ed",
   "metadata": {
    "tags": []
   },
   "outputs": [
    {
     "data": {
      "text/plain": [
       "-2.0"
      ]
     },
     "execution_count": 447,
     "metadata": {},
     "output_type": "execute_result"
    }
   ],
   "source": [
    "#Identify the positive matches by looking directly in the score matrix? https://www.ncbi.nlm.nih.gov/Class/FieldGuide/BLOSUM62.txt\n",
    "blosumDict = dict(bl.BLOSUM(62))\n",
    "\n",
    "def Blosum(a, b):\n",
    "    key = str(a.upper()) + str(b.upper())\n",
    "    return blosumDict.get(key, np.nan)\n",
    "\n",
    "Blosum(\"A\", \"N\")"
   ]
  },
  {
   "cell_type": "code",
   "execution_count": 448,
   "id": "d2ed2734-25c3-4fa5-ae1a-05e4cfc1a514",
   "metadata": {},
   "outputs": [
    {
     "name": "stdout",
     "output_type": "stream",
     "text": [
      "99\n",
      "108\n",
      "(88, 99)\n",
      "(96, 105)\n"
     ]
    },
    {
     "data": {
      "text/html": [
       "<div>\n",
       "<style scoped>\n",
       "    .dataframe tbody tr th:only-of-type {\n",
       "        vertical-align: middle;\n",
       "    }\n",
       "\n",
       "    .dataframe tbody tr th {\n",
       "        vertical-align: top;\n",
       "    }\n",
       "\n",
       "    .dataframe thead th {\n",
       "        text-align: right;\n",
       "    }\n",
       "</style>\n",
       "<table border=\"1\" class=\"dataframe\">\n",
       "  <thead>\n",
       "    <tr style=\"text-align: right;\">\n",
       "      <th></th>\n",
       "      <th>QLoc</th>\n",
       "      <th>SLoc</th>\n",
       "      <th>Align1</th>\n",
       "      <th>Align2</th>\n",
       "      <th>Query</th>\n",
       "      <th>Subject</th>\n",
       "      <th>Score</th>\n",
       "    </tr>\n",
       "  </thead>\n",
       "  <tbody>\n",
       "    <tr>\n",
       "      <th>50</th>\n",
       "      <td>66</td>\n",
       "      <td>78</td>\n",
       "      <td>True</td>\n",
       "      <td>True</td>\n",
       "      <td>G</td>\n",
       "      <td>G</td>\n",
       "      <td>6.0</td>\n",
       "    </tr>\n",
       "    <tr>\n",
       "      <th>51</th>\n",
       "      <td>67</td>\n",
       "      <td>79</td>\n",
       "      <td>True</td>\n",
       "      <td>False</td>\n",
       "      <td>D</td>\n",
       "      <td>R</td>\n",
       "      <td>-2.0</td>\n",
       "    </tr>\n",
       "    <tr>\n",
       "      <th>52</th>\n",
       "      <td>68</td>\n",
       "      <td>80</td>\n",
       "      <td>True</td>\n",
       "      <td>False</td>\n",
       "      <td>D</td>\n",
       "      <td>E</td>\n",
       "      <td>2.0</td>\n",
       "    </tr>\n",
       "    <tr>\n",
       "      <th>53</th>\n",
       "      <td>69</td>\n",
       "      <td>81</td>\n",
       "      <td>True</td>\n",
       "      <td>False</td>\n",
       "      <td>T</td>\n",
       "      <td>A</td>\n",
       "      <td>0.0</td>\n",
       "    </tr>\n",
       "    <tr>\n",
       "      <th>54</th>\n",
       "      <td>70</td>\n",
       "      <td>-1</td>\n",
       "      <td>True</td>\n",
       "      <td>False</td>\n",
       "      <td>E</td>\n",
       "      <td>-</td>\n",
       "      <td>NaN</td>\n",
       "    </tr>\n",
       "    <tr>\n",
       "      <th>55</th>\n",
       "      <td>71</td>\n",
       "      <td>82</td>\n",
       "      <td>True</td>\n",
       "      <td>False</td>\n",
       "      <td>L</td>\n",
       "      <td>L</td>\n",
       "      <td>4.0</td>\n",
       "    </tr>\n",
       "    <tr>\n",
       "      <th>56</th>\n",
       "      <td>72</td>\n",
       "      <td>82</td>\n",
       "      <td>False</td>\n",
       "      <td>True</td>\n",
       "      <td>L</td>\n",
       "      <td>L</td>\n",
       "      <td>4.0</td>\n",
       "    </tr>\n",
       "    <tr>\n",
       "      <th>57</th>\n",
       "      <td>72</td>\n",
       "      <td>83</td>\n",
       "      <td>True</td>\n",
       "      <td>False</td>\n",
       "      <td>L</td>\n",
       "      <td>Y</td>\n",
       "      <td>-1.0</td>\n",
       "    </tr>\n",
       "    <tr>\n",
       "      <th>58</th>\n",
       "      <td>73</td>\n",
       "      <td>84</td>\n",
       "      <td>True</td>\n",
       "      <td>False</td>\n",
       "      <td>T</td>\n",
       "      <td>D</td>\n",
       "      <td>-1.0</td>\n",
       "    </tr>\n",
       "    <tr>\n",
       "      <th>59</th>\n",
       "      <td>74</td>\n",
       "      <td>85</td>\n",
       "      <td>True</td>\n",
       "      <td>False</td>\n",
       "      <td>R</td>\n",
       "      <td>E</td>\n",
       "      <td>0.0</td>\n",
       "    </tr>\n",
       "  </tbody>\n",
       "</table>\n",
       "</div>"
      ],
      "text/plain": [
       "    QLoc  SLoc  Align1  Align2 Query Subject  Score\n",
       "50    66    78    True    True     G       G    6.0\n",
       "51    67    79    True   False     D       R   -2.0\n",
       "52    68    80    True   False     D       E    2.0\n",
       "53    69    81    True   False     T       A    0.0\n",
       "54    70    -1    True   False     E       -    NaN\n",
       "55    71    82    True   False     L       L    4.0\n",
       "56    72    82   False    True     L       L    4.0\n",
       "57    72    83    True   False     L       Y   -1.0\n",
       "58    73    84    True   False     T       D   -1.0\n",
       "59    74    85    True   False     R       E    0.0"
      ]
     },
     "execution_count": 448,
     "metadata": {},
     "output_type": "execute_result"
    }
   ],
   "source": [
    "def CompareAlignments(query, subject, align1, align2):\n",
    "    df = InterweaveAlignments(align1, align2)\n",
    "    df[\"Query\"] = [query[i] if (i >= 0) else \"-\" for i in df.QLoc]\n",
    "    df[\"Subject\"] = [subject[i] if (i >= 0) else \"-\" for i in df.SLoc]\n",
    "    df[\"Score\"] = [Blosum(a,b) for (a,b) in list(zip(df.Query, df.Subject))]\n",
    "    \n",
    "    return df\n",
    "\n",
    "print(len(seq1.seq))\n",
    "print(len(seq2.seq))\n",
    "print(max(blastBestAlign))\n",
    "print(max(esmAlignment))\n",
    "bestAlignDF = CompareAlignments(seq1.seq, seq2.seq, blastBestAlign, esmAlignment)\n",
    "bestAlignDF[50:60]"
   ]
  },
  {
   "cell_type": "code",
   "execution_count": 449,
   "id": "fa662d7d-9d62-4e78-8508-d00725daa277",
   "metadata": {},
   "outputs": [
    {
     "data": {
      "text/html": [
       "<div>\n",
       "<style scoped>\n",
       "    .dataframe tbody tr th:only-of-type {\n",
       "        vertical-align: middle;\n",
       "    }\n",
       "\n",
       "    .dataframe tbody tr th {\n",
       "        vertical-align: top;\n",
       "    }\n",
       "\n",
       "    .dataframe thead th {\n",
       "        text-align: right;\n",
       "    }\n",
       "</style>\n",
       "<table border=\"1\" class=\"dataframe\">\n",
       "  <thead>\n",
       "    <tr style=\"text-align: right;\">\n",
       "      <th></th>\n",
       "      <th>QLoc</th>\n",
       "      <th>SLoc</th>\n",
       "      <th>Align1</th>\n",
       "      <th>Align2</th>\n",
       "      <th>Query</th>\n",
       "      <th>Subject</th>\n",
       "      <th>Score</th>\n",
       "    </tr>\n",
       "  </thead>\n",
       "  <tbody>\n",
       "    <tr>\n",
       "      <th>0</th>\n",
       "      <td>0</td>\n",
       "      <td>0</td>\n",
       "      <td>False</td>\n",
       "      <td>True</td>\n",
       "      <td>M</td>\n",
       "      <td>M</td>\n",
       "      <td>5.0</td>\n",
       "    </tr>\n",
       "    <tr>\n",
       "      <th>1</th>\n",
       "      <td>9</td>\n",
       "      <td>13</td>\n",
       "      <td>False</td>\n",
       "      <td>True</td>\n",
       "      <td>G</td>\n",
       "      <td>G</td>\n",
       "      <td>6.0</td>\n",
       "    </tr>\n",
       "    <tr>\n",
       "      <th>2</th>\n",
       "      <td>10</td>\n",
       "      <td>14</td>\n",
       "      <td>False</td>\n",
       "      <td>True</td>\n",
       "      <td>Y</td>\n",
       "      <td>Y</td>\n",
       "      <td>7.0</td>\n",
       "    </tr>\n",
       "    <tr>\n",
       "      <th>3</th>\n",
       "      <td>12</td>\n",
       "      <td>15</td>\n",
       "      <td>False</td>\n",
       "      <td>True</td>\n",
       "      <td>A</td>\n",
       "      <td>A</td>\n",
       "      <td>4.0</td>\n",
       "    </tr>\n",
       "    <tr>\n",
       "      <th>4</th>\n",
       "      <td>13</td>\n",
       "      <td>22</td>\n",
       "      <td>False</td>\n",
       "      <td>True</td>\n",
       "      <td>V</td>\n",
       "      <td>V</td>\n",
       "      <td>4.0</td>\n",
       "    </tr>\n",
       "    <tr>\n",
       "      <th>...</th>\n",
       "      <td>...</td>\n",
       "      <td>...</td>\n",
       "      <td>...</td>\n",
       "      <td>...</td>\n",
       "      <td>...</td>\n",
       "      <td>...</td>\n",
       "      <td>...</td>\n",
       "    </tr>\n",
       "    <tr>\n",
       "      <th>75</th>\n",
       "      <td>88</td>\n",
       "      <td>99</td>\n",
       "      <td>True</td>\n",
       "      <td>False</td>\n",
       "      <td>S</td>\n",
       "      <td>A</td>\n",
       "      <td>1.0</td>\n",
       "    </tr>\n",
       "    <tr>\n",
       "      <th>76</th>\n",
       "      <td>90</td>\n",
       "      <td>100</td>\n",
       "      <td>False</td>\n",
       "      <td>True</td>\n",
       "      <td>G</td>\n",
       "      <td>G</td>\n",
       "      <td>6.0</td>\n",
       "    </tr>\n",
       "    <tr>\n",
       "      <th>77</th>\n",
       "      <td>92</td>\n",
       "      <td>102</td>\n",
       "      <td>False</td>\n",
       "      <td>True</td>\n",
       "      <td>A</td>\n",
       "      <td>A</td>\n",
       "      <td>4.0</td>\n",
       "    </tr>\n",
       "    <tr>\n",
       "      <th>78</th>\n",
       "      <td>94</td>\n",
       "      <td>104</td>\n",
       "      <td>False</td>\n",
       "      <td>True</td>\n",
       "      <td>K</td>\n",
       "      <td>K</td>\n",
       "      <td>5.0</td>\n",
       "    </tr>\n",
       "    <tr>\n",
       "      <th>79</th>\n",
       "      <td>96</td>\n",
       "      <td>105</td>\n",
       "      <td>False</td>\n",
       "      <td>True</td>\n",
       "      <td>K</td>\n",
       "      <td>P</td>\n",
       "      <td>-1.0</td>\n",
       "    </tr>\n",
       "  </tbody>\n",
       "</table>\n",
       "<p>80 rows × 7 columns</p>\n",
       "</div>"
      ],
      "text/plain": [
       "    QLoc  SLoc  Align1  Align2 Query Subject  Score\n",
       "0      0     0   False    True     M       M    5.0\n",
       "1      9    13   False    True     G       G    6.0\n",
       "2     10    14   False    True     Y       Y    7.0\n",
       "3     12    15   False    True     A       A    4.0\n",
       "4     13    22   False    True     V       V    4.0\n",
       "..   ...   ...     ...     ...   ...     ...    ...\n",
       "75    88    99    True   False     S       A    1.0\n",
       "76    90   100   False    True     G       G    6.0\n",
       "77    92   102   False    True     A       A    4.0\n",
       "78    94   104   False    True     K       K    5.0\n",
       "79    96   105   False    True     K       P   -1.0\n",
       "\n",
       "[80 rows x 7 columns]"
      ]
     },
     "execution_count": 449,
     "metadata": {},
     "output_type": "execute_result"
    }
   ],
   "source": [
    "alignmentDFs = [CompareAlignments(seq1.seq, seq2.seq, blastAlign, esmAlignment) for blastAlign in blastAlignments]\n",
    "alignmentDFs[0]"
   ]
  },
  {
   "cell_type": "markdown",
   "id": "f4e7b82d-d472-493d-945a-09a6a6cc5a2e",
   "metadata": {},
   "source": [
    "### Render the comparison"
   ]
  },
  {
   "cell_type": "code",
   "execution_count": 450,
   "id": "2b9778b6-515f-453f-a25f-199828b41515",
   "metadata": {},
   "outputs": [
    {
     "data": {
      "text/plain": [
       "[1, 6, 7, 77, 78]"
      ]
     },
     "execution_count": 450,
     "metadata": {},
     "output_type": "execute_result"
    }
   ],
   "source": [
    "def GetGaps(df):\n",
    "    gaps = []\n",
    "    q = 0\n",
    "    s = 0\n",
    "    for i,row in df.iterrows():\n",
    "        if row.QLoc > (q + 1) and row.SLoc > (s + 1):\n",
    "            gaps.append(i)\n",
    "        q = row.QLoc\n",
    "        s = row.SLoc\n",
    "    \n",
    "    return gaps\n",
    "\n",
    "GetGaps(bestAlignDF)"
   ]
  },
  {
   "cell_type": "code",
   "execution_count": 451,
   "id": "51532c58-3c6e-4555-a172-a91fb67f9570",
   "metadata": {},
   "outputs": [
    {
     "data": {
      "text/plain": [
       "' 2 3 5'"
      ]
     },
     "execution_count": 451,
     "metadata": {},
     "output_type": "execute_result"
    }
   ],
   "source": [
    "# Make a string corresponding to a single line for our visual\n",
    "def SeqString(conditions, values, gaps, blankChar=\" \", gapStr=\" \"):\n",
    "    chars = np.select([conditions, ~conditions], [values, blankChar])\n",
    "    lineStr = \"\".join(chars)\n",
    "    for i in reversed(gaps):\n",
    "        lineStr = lineStr[:i] + gapStr + lineStr[i:]\n",
    "    return lineStr\n",
    "\n",
    "SeqString(pd.Series([False, True, True, False, True]), [1, 2, 3, 4, 5], [2])"
   ]
  },
  {
   "cell_type": "code",
   "execution_count": 452,
   "id": "56de0062-0f80-4bb0-ac4b-5962b605f13c",
   "metadata": {},
   "outputs": [],
   "source": [
    "def RenderAlignments(df):\n",
    "    positive = pd.DataFrame(np.where(df.Score > 0.0, \"+\", None))\n",
    "    perfect = pd.DataFrame(np.where(df.Query == df.Subject, \"*\", None))\n",
    "    scorestring = perfect.combine_first(positive)[0].fillna(\" \")\n",
    "    \n",
    "    gaps = GetGaps(bestAlignDF)\n",
    "    \n",
    "    a1_condition = [df.Align1, ~df.Align1]\n",
    "    a2_condition = [df.Align2, ~df.Align2]\n",
    "    \n",
    "    #alignment 1\n",
    "    print(SeqString(df.Align1, df.Query, gaps))\n",
    "    print(SeqString(df.Align1, scorestring, gaps))\n",
    "    print(SeqString(df.Align1, df.Subject, gaps))\n",
    "    \n",
    "    #anchors\n",
    "    print(SeqString(df.Align1&df.Align2, \"|\", gaps))\n",
    "    \n",
    "    #alignment 2\n",
    "    print(SeqString(df.Align2, df.Query, gaps))\n",
    "    print(SeqString(df.Align2, scorestring, gaps))\n",
    "    print(SeqString(df.Align2, df.Subject, gaps))"
   ]
  },
  {
   "cell_type": "markdown",
   "id": "2e6657b3-31db-4cd2-87e6-96562e47b57d",
   "metadata": {},
   "source": [
    "### Results"
   ]
  },
  {
   "cell_type": "code",
   "execution_count": 453,
   "id": "aedf4147-d2b2-463e-9279-1e1d39bd1687",
   "metadata": {},
   "outputs": [
    {
     "name": "stdout",
     "output_type": "stream",
     "text": [
      "Best non-overlapping BLAST HSPs concatenated (top) vs ESM-based alignment (bottom)\n",
      "\n",
      "\n",
      "          DYQAK ASAAIE R IRAMPEGYASPE DRA AAINAIRTGTCGDDTEL LTRVRAA L DRWQRDCAS      \n",
      "          +*        *    * *+*  * * +     *** ***+*  * +  *    *  *     + ** *+      \n",
      "          EYAEL KEKTIR I IVALPTQYLSAD KGR AAIEAIRSGEPGREA-L YDEVWDA A MAYSRDIAA      \n",
      "           |        |      | | || |    |  ||||||||||||         |        ||||||       \n",
      "M GYAVS E  Y   K    I R I  A P GY S  D R AAAINAIRTGTCG     L   V   L D  WQRDCA G A KK\n",
      "* ***** *  *   *    * * *  * *  * *  *   **** ***+*  *     *   *     *  + ** * * * * \n",
      "M GYAVS E  Y   K    I R I  A P QY S  D G AAAIEAIRSGEPG     L   V   W D  YSRDIA G A KP\n"
     ]
    }
   ],
   "source": [
    "# Show comparison against top BLAST result, with any other compatible BLAST HSPs concatenated on\n",
    "print(\"Best non-overlapping BLAST HSPs concatenated (top) vs ESM-based alignment (bottom)\\n\\n\")\n",
    "RenderAlignments(bestAlignDF)"
   ]
  },
  {
   "cell_type": "code",
   "execution_count": 460,
   "id": "d5b3926c-0656-4609-ba0f-fc34fa14f50e",
   "metadata": {},
   "outputs": [
    {
     "name": "stdout",
     "output_type": "stream",
     "text": [
      "If any BLAST alignments were unable to concatenate to the above result, they will be displayed here:\n",
      "\n",
      "\n",
      "\n",
      "BLAST HSP #2 (top) vs ESM-based alignment (bottom)\n",
      "\n",
      "\n",
      "        Q DALF                                          \n",
      "        + +**+                                          \n",
      "        R EALY                                          \n",
      "                                                        \n",
      "M GYAVS       EYKIRIAPGYSDRAAAINAIRTGTCGLVLDWQRDCAGAKK  \n",
      "* *****       ******** *** **** ***+*  *** *+ ** ****   \n",
      "M GYAVS       EYKIRIAPQYSDGAAAIEAIRSGEPGLVWDYSRDIAGAKP  \n",
      "\n",
      "\n"
     ]
    }
   ],
   "source": [
    "print(\"If any BLAST alignments were unable to concatenate to the above result, they will be displayed here:\\n\")\n",
    "\n",
    "# Show comparison any of top 10 BLAST HSPs that *weren't* used in the concatenation above\n",
    "for i, alignments in enumerate(alignmentDFs):\n",
    "    if not i in blastAlignsUsed:\n",
    "        print(f\"\\n\\nBLAST HSP #{i+1} (top) vs ESM-based alignment (bottom)\\n\\n\")\n",
    "        RenderAlignments(alignments)\n",
    "        print(\"\\n\")"
   ]
  },
  {
   "cell_type": "markdown",
   "id": "a4b734f6-bf1c-43d4-b152-2166e5710fc0",
   "metadata": {},
   "source": [
    "### To Do / Questions: \n",
    "1. How do we want to show large gaps that occur in both alignments? Currently just a single space.\n",
    "2. Do we want to truncate the range to only that covered by the BLAST HSP?\n",
    "2. Do we want to show indices in the visual? In what way?\n",
    "3. Could concatenate BLAST HSPs together in a more intelligent way. Currently uses a greedy algorithm to combine the top-scoring non-overlapping BLAST HSPs. Could instead find the optimal combination. \n",
    "4. Can BLAST HSPs have a reversal of Query and/or Subject?"
   ]
  }
 ],
 "metadata": {
  "kernelspec": {
   "display_name": "Python 3 (ipykernel)",
   "language": "python",
   "name": "python3"
  },
  "language_info": {
   "codemirror_mode": {
    "name": "ipython",
    "version": 3
   },
   "file_extension": ".py",
   "mimetype": "text/x-python",
   "name": "python",
   "nbconvert_exporter": "python",
   "pygments_lexer": "ipython3",
   "version": "3.9.12"
  }
 },
 "nbformat": 4,
 "nbformat_minor": 5
}
