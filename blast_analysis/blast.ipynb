{
 "cells": [
  {
   "cell_type": "code",
   "execution_count": 1,
   "id": "891a3772-a9d6-4453-82f8-5119b3750939",
   "metadata": {},
   "outputs": [],
   "source": [
    "#!pip install biopython\n",
    "#!pip install blosum"
   ]
  },
  {
   "cell_type": "code",
   "execution_count": 2,
   "id": "e60cf2b0-d1cc-4907-8b95-797a5a8c6867",
   "metadata": {},
   "outputs": [],
   "source": [
    "from Bio.Blast.Applications import NcbiblastpCommandline\n",
    "from Bio import SeqIO\n",
    "from Bio.SeqRecord import SeqRecord\n",
    "import uuid\n",
    "from Bio.Seq import Seq\n",
    "import blosum as bl\n",
    "import re"
   ]
  },
  {
   "cell_type": "code",
   "execution_count": 3,
   "id": "d0cc2d8c-feac-495a-bf85-3d672850c955",
   "metadata": {},
   "outputs": [
    {
     "data": {
      "text/plain": [
       "'MGQANTTIKGYSAVSQDALFATYGITEGDYQAKASAAIERIRAMPEGYASPEDRAAAINAIRTGTCGDDTELLTRVRAALDRWQRDCASTGHALKSKVV'"
      ]
     },
     "execution_count": 3,
     "metadata": {},
     "output_type": "execute_result"
    }
   ],
   "source": [
    "seqs = SeqIO.to_dict(SeqIO.parse(\"test/ab.fa\", 'fasta'))\n",
    "str(seqs['QBZ81690.1'].seq)"
   ]
  },
  {
   "cell_type": "code",
   "execution_count": 4,
   "id": "3669b8b6-31ad-45b1-aded-5d4aad8cf500",
   "metadata": {
    "tags": []
   },
   "outputs": [
    {
     "data": {
      "text/plain": [
       "'MGQANTTIKGYSAVSQDALFATYGITEGDYQAKASAAIERIRAMPEGYASPEDRAAAINAIRTGTCGDDTELLTRVRAALDRWQRDCASTGHALKSKVV'"
      ]
     },
     "execution_count": 4,
     "metadata": {},
     "output_type": "execute_result"
    }
   ],
   "source": [
    "#for line in open(\"VOGs/same_vog_seq_pairs.tsv\"):\n",
    "\n",
    "#data = line.rstrip().split()\n",
    "data = ['', 'QBZ81690.1', '', 'AGO83968.2']\n",
    "\n",
    "seq1 = SeqRecord(seqs[data[1]].seq,\n",
    "                 id=seqs[data[1]].id)\n",
    "seq2 = SeqRecord(seqs[data[3]].seq,\n",
    "                 id=seqs[data[3]].id)\n",
    "SeqIO.write(seq1, f\"seq_1.fasta\", \"fasta\")\n",
    "SeqIO.write(seq2, f\"seq_2.fasta\", \"fasta\")\n",
    "\n",
    "str(seq1.seq)"
   ]
  },
  {
   "cell_type": "code",
   "execution_count": 5,
   "id": "8a8cce38-1d3c-4517-8ada-fb93914117e7",
   "metadata": {
    "tags": []
   },
   "outputs": [
    {
     "name": "stdout",
     "output_type": "stream",
     "text": [
      "29\tDYQAKASAAIERIRAMPEGYASPEDRAAAINAIRTGTCGDDTELLTRVRAALDRWQRDCAS\t89\t41\tEYAELKEKTIRIIVALPTQYLSADKGRAAIEAIRSGEPGREA-LYDEVWDAAMAYSRDIAA\t100\n",
      "16\tQDALF\t20\t80\tREALY\t84\n",
      "\n"
     ]
    }
   ],
   "source": [
    "output = NcbiblastpCommandline(query=f\"seq_1.fasta\", subject=f\"seq_2.fasta\", outfmt=\"6 qstart qseq qend sstart sseq send\")()[0]\n",
    "if len(output) < 2:\n",
    "    output = f\"{seqs[data[1]].id}\\t{seqs[data[3]].id}\\t NO_HIT\"\n",
    "#output = output.split(\"\\n\")\n",
    "print(output)"
   ]
  },
  {
   "cell_type": "code",
   "execution_count": 6,
   "id": "16455bd1-41e3-44d6-95c1-0411a08afb32",
   "metadata": {},
   "outputs": [
    {
     "name": "stdout",
     "output_type": "stream",
     "text": [
      "29\t41\tDE1QAAEKLAKSEAKAT1ERRI1RV1ML1ETGQ1AL1PAEDDKRGAR3NE3TS1TECP1DRDETAE-1LYTDRE1RWAD1LADMRAWYQS2CI1SA\t89\t100\n",
      "16\t80\tQRDE2FY\t20\t84\n",
      "\n"
     ]
    }
   ],
   "source": [
    "output2 = NcbiblastpCommandline(query=f\"seq_1.fasta\", subject=f\"seq_2.fasta\", outfmt=\"6 qstart sstart btop qend send\")()[0]\n",
    "print(output2)"
   ]
  },
  {
   "cell_type": "code",
   "execution_count": 7,
   "id": "60a271b9-52ac-4920-aa3c-79e81f6344d6",
   "metadata": {
    "collapsed": true,
    "jupyter": {
     "outputs_hidden": true
    },
    "tags": []
   },
   "outputs": [
    {
     "name": "stdout",
     "output_type": "stream",
     "text": [
      "{\n",
      "  \"Seq_annot\": {\n",
      "    \"desc\": [\n",
      "      {\n",
      "        \"user\": {\n",
      "          \"type\": {\n",
      "            \"str\": \"Hist Seqalign\"\n",
      "          },\n",
      "          \"data\": [\n",
      "            {\n",
      "              \"label\": {\n",
      "                \"str\": \"Hist Seqalign\"\n",
      "              },\n",
      "              \"data\": {\n",
      "                \"bool\": true\n",
      "              }\n",
      "            }\n",
      "          ]\n",
      "        }\n",
      "      },\n",
      "      {\n",
      "        \"user\": {\n",
      "          \"type\": {\n",
      "            \"str\": \"Blast Type\"\n",
      "          },\n",
      "          \"data\": [\n",
      "            {\n",
      "              \"label\": {\n",
      "                \"str\": \"blastp\"\n",
      "              },\n",
      "              \"data\": {\n",
      "                \"int\": 2\n",
      "              }\n",
      "            }\n",
      "          ]\n",
      "        }\n",
      "      },\n",
      "      {\n",
      "        \"user\": {\n",
      "          \"type\": {\n",
      "            \"str\": \"Blast Database Title\"\n",
      "          },\n",
      "          \"data\": [\n",
      "            {\n",
      "              \"label\": {\n",
      "                \"str\": \"n/a\"\n",
      "              },\n",
      "              \"data\": {\n",
      "                \"bool\": false\n",
      "              }\n",
      "            }\n",
      "          ]\n",
      "        }\n",
      "      }\n",
      "    ],\n",
      "    \"data\": {\n",
      "      \"align\": [\n",
      "        {\n",
      "          \"type\": \"partial\",\n",
      "          \"dim\": 2,\n",
      "          \"score\": [\n",
      "            {\n",
      "              \"id\": {\n",
      "                \"str\": \"score\"\n",
      "              },\n",
      "              \"value\": {\n",
      "                \"int\": 51\n",
      "              }\n",
      "            },\n",
      "            {\n",
      "              \"id\": {\n",
      "                \"str\": \"blast_score\"\n",
      "              },\n",
      "              \"value\": {\n",
      "                \"int\": 51\n",
      "              }\n",
      "            },\n",
      "            {\n",
      "              \"id\": {\n",
      "                \"str\": \"e_value\"\n",
      "              },\n",
      "              \"value\": {\n",
      "                \"real\": 9.9862252798672e-05\n",
      "              }\n",
      "            },\n",
      "            {\n",
      "              \"id\": {\n",
      "                \"str\": \"bit_score\"\n",
      "              },\n",
      "              \"value\": {\n",
      "                \"real\": 24.253410651829\n",
      "              }\n",
      "            },\n",
      "            {\n",
      "              \"id\": {\n",
      "                \"str\": \"num_ident\"\n",
      "              },\n",
      "              \"value\": {\n",
      "                \"int\": 21\n",
      "              }\n",
      "            },\n",
      "            {\n",
      "              \"id\": {\n",
      "                \"str\": \"comp_adjustment_method\"\n",
      "              },\n",
      "              \"value\": {\n",
      "                \"int\": 2\n",
      "              }\n",
      "            },\n",
      "            {\n",
      "              \"id\": {\n",
      "                \"str\": \"num_positives\"\n",
      "              },\n",
      "              \"value\": {\n",
      "                \"int\": 28\n",
      "              }\n",
      "            },\n",
      "            {\n",
      "              \"id\": {\n",
      "                \"str\": \"hsp_percent_coverage\"\n",
      "              },\n",
      "              \"value\": {\n",
      "                \"real\": 62.1161616161616\n",
      "              }\n",
      "            }\n",
      "          ],\n",
      "          \"segs\": {\n",
      "            \"denseg\": {\n",
      "              \"dim\": 2,\n",
      "              \"numseg\": 3,\n",
      "              \"ids\": [\n",
      "                {\n",
      "                  \"local\": {\n",
      "                    \"str\": \"Query_1\"\n",
      "                  }\n",
      "                },\n",
      "                {\n",
      "                  \"local\": {\n",
      "                    \"str\": \"Subject_1\"\n",
      "                  }\n",
      "                }\n",
      "              ],\n",
      "              \"starts\": [\n",
      "                28,\n",
      "                40,\n",
      "                70,\n",
      "                -1,\n",
      "                71,\n",
      "                82\n",
      "              ],\n",
      "              \"lens\": [\n",
      "                42,\n",
      "                1,\n",
      "                18\n",
      "              ],\n",
      "              \"strands\": [\n",
      "                \"plus\",\n",
      "                \"plus\",\n",
      "                \"plus\",\n",
      "                \"plus\",\n",
      "                \"plus\",\n",
      "                \"plus\"\n",
      "              ]\n",
      "            }\n",
      "          }\n",
      "        },\n",
      "        {\n",
      "          \"type\": \"partial\",\n",
      "          \"dim\": 2,\n",
      "          \"score\": [\n",
      "            {\n",
      "              \"id\": {\n",
      "                \"str\": \"score\"\n",
      "              },\n",
      "              \"value\": {\n",
      "                \"int\": 15\n",
      "              }\n",
      "            },\n",
      "            {\n",
      "              \"id\": {\n",
      "                \"str\": \"blast_score\"\n",
      "              },\n",
      "              \"value\": {\n",
      "                \"int\": 15\n",
      "              }\n",
      "            },\n",
      "            {\n",
      "              \"id\": {\n",
      "                \"str\": \"e_value\"\n",
      "              },\n",
      "              \"value\": {\n",
      "                \"real\": 7.94231692807295\n",
      "              }\n",
      "            },\n",
      "            {\n",
      "              \"id\": {\n",
      "                \"str\": \"bit_score\"\n",
      "              },\n",
      "              \"value\": {\n",
      "                \"real\": 10.3862259188043\n",
      "              }\n",
      "            },\n",
      "            {\n",
      "              \"id\": {\n",
      "                \"str\": \"num_ident\"\n",
      "              },\n",
      "              \"value\": {\n",
      "                \"int\": 2\n",
      "              }\n",
      "            },\n",
      "            {\n",
      "              \"id\": {\n",
      "                \"str\": \"comp_adjustment_method\"\n",
      "              },\n",
      "              \"value\": {\n",
      "                \"int\": 2\n",
      "              }\n",
      "            },\n",
      "            {\n",
      "              \"id\": {\n",
      "                \"str\": \"num_positives\"\n",
      "              },\n",
      "              \"value\": {\n",
      "                \"int\": 5\n",
      "              }\n",
      "            },\n",
      "            {\n",
      "              \"id\": {\n",
      "                \"str\": \"hsp_percent_coverage\"\n",
      "              },\n",
      "              \"value\": {\n",
      "                \"real\": 5.55050505050505\n",
      "              }\n",
      "            }\n",
      "          ],\n",
      "          \"segs\": {\n",
      "            \"denseg\": {\n",
      "              \"dim\": 2,\n",
      "              \"numseg\": 1,\n",
      "              \"ids\": [\n",
      "                {\n",
      "                  \"local\": {\n",
      "                    \"str\": \"Query_1\"\n",
      "                  }\n",
      "                },\n",
      "                {\n",
      "                  \"local\": {\n",
      "                    \"str\": \"Subject_1\"\n",
      "                  }\n",
      "                }\n",
      "              ],\n",
      "              \"starts\": [\n",
      "                15,\n",
      "                79\n",
      "              ],\n",
      "              \"lens\": [\n",
      "                5\n",
      "              ],\n",
      "              \"strands\": [\n",
      "                \"plus\",\n",
      "                \"plus\"\n",
      "              ]\n",
      "            }\n",
      "          }\n",
      "        }\n",
      "      ]\n",
      "    }\n",
      "  }\n",
      "}\n",
      "\n"
     ]
    }
   ],
   "source": [
    "output3 = NcbiblastpCommandline(query=f\"seq_1.fasta\", subject=f\"seq_2.fasta\", outfmt=12)()[0]\n",
    "print(output3)"
   ]
  },
  {
   "cell_type": "code",
   "execution_count": 8,
   "id": "30965db1-3efc-42e4-8a05-72741a4d04ed",
   "metadata": {
    "tags": []
   },
   "outputs": [
    {
     "data": {
      "text/plain": [
       "-2.0"
      ]
     },
     "execution_count": 8,
     "metadata": {},
     "output_type": "execute_result"
    }
   ],
   "source": [
    "#Identify the positive matches by looking directly in the score matrix? https://www.ncbi.nlm.nih.gov/Class/FieldGuide/BLOSUM62.txt\n",
    "blosumDict = dict(bl.BLOSUM(62))\n",
    "\n",
    "def Blosum(a, b):\n",
    "    key = str(a) + str(b)\n",
    "    return blosumDict[key]\n",
    "\n",
    "Blosum(\"A\", \"N\")"
   ]
  },
  {
   "cell_type": "code",
   "execution_count": 9,
   "id": "1aeaf3e6-fbcd-47f5-8f27-273f6290a53e",
   "metadata": {},
   "outputs": [
    {
     "data": {
      "text/plain": [
       "[('a', 2, 'b', 1),\n",
       " ('+', 3, '+', 2),\n",
       " ('a', 4, 'b', 3),\n",
       " ('a', 5, '-', -1),\n",
       " ('a', 6, 'b', 4),\n",
       " ('a', 7, 'b', 5)]"
      ]
     },
     "execution_count": 9,
     "metadata": {},
     "output_type": "execute_result"
    }
   ],
   "source": [
    "def GetIndicesFromBlastTrace(start1, end1, start2, end2, btop):\n",
    "    start1 = int(start1)\n",
    "    end1 = int(end1)\n",
    "    start2 = int(start2)\n",
    "    end2 = int(end2)\n",
    "    \n",
    "    chars = btop\n",
    "    for c in ['0','1','2','3','4','5','6','7','8','9','0']:\n",
    "        chars = chars.replace(c, \"++\")\n",
    "    \n",
    "    assert(len(chars)%2 == 0)\n",
    "    \n",
    "    s1 = chars[0:-1:2]\n",
    "    s2 = chars[1:-1:2]\n",
    "    \n",
    "    i1 = [i for i in range(start1, end1)]\n",
    "    i2 = [i for i in range(start2, end2)]\n",
    "    \n",
    "    gaps1 = [i for i, c in enumerate(s1) if c == \"-\"]\n",
    "    gaps2 = [i for i, c in enumerate(s2) if c == \"-\"]\n",
    "    \n",
    "    for gap in gaps1:\n",
    "        i1.insert(gap, -1)\n",
    "    \n",
    "    for gap in gaps2:\n",
    "        i2.insert(gap, -1)\n",
    "        \n",
    "    trace = list(zip(s1, i1, s2, i2))\n",
    "    \n",
    "    return trace\n",
    "\n",
    "\n",
    "GetIndicesFromBlastTrace(2,9,1,7,\"ab1aba-ababab\")"
   ]
  },
  {
   "cell_type": "code",
   "execution_count": 10,
   "id": "b2f84fa0-e0f4-4ff1-9da0-9e7615af52e2",
   "metadata": {},
   "outputs": [
    {
     "data": {
      "text/plain": [
       "[(2, 1), (3, 2), (4, 3), (6, 4), (7, 5)]"
      ]
     },
     "execution_count": 10,
     "metadata": {},
     "output_type": "execute_result"
    }
   ],
   "source": [
    "def GetMatchesFromBlastTrace(start1, end1, start2, end2, btop):\n",
    "    trace = GetIndicesFromBlastTrace(start1, end1, start2, end2, btop)\n",
    "    \n",
    "    matches = [(i,j) for (a,i,b,j) in trace if (a != \"-\" and b != \"-\")]\n",
    "    \n",
    "    return matches\n",
    "\n",
    "GetMatchesFromBlastTrace(2,9,1,7,\"ab1aba-ababab\")"
   ]
  },
  {
   "cell_type": "code",
   "execution_count": 11,
   "id": "a60b629d-2d4b-4789-97e0-2bb982bd5a36",
   "metadata": {},
   "outputs": [
    {
     "data": {
      "text/plain": [
       "[[(29, 41),\n",
       "  (30, 42),\n",
       "  (31, 43),\n",
       "  (32, 44),\n",
       "  (33, 45),\n",
       "  (34, 46),\n",
       "  (35, 47),\n",
       "  (36, 48),\n",
       "  (37, 49),\n",
       "  (38, 50),\n",
       "  (39, 51),\n",
       "  (40, 52),\n",
       "  (41, 53),\n",
       "  (42, 54),\n",
       "  (43, 55),\n",
       "  (44, 56),\n",
       "  (45, 57),\n",
       "  (46, 58),\n",
       "  (47, 59),\n",
       "  (48, 60),\n",
       "  (49, 61),\n",
       "  (50, 62),\n",
       "  (51, 63),\n",
       "  (52, 64),\n",
       "  (53, 65),\n",
       "  (54, 66),\n",
       "  (55, 67),\n",
       "  (56, 68),\n",
       "  (57, 69),\n",
       "  (58, 70),\n",
       "  (59, 71),\n",
       "  (60, 72),\n",
       "  (61, 73),\n",
       "  (62, 74),\n",
       "  (63, 75),\n",
       "  (64, 76),\n",
       "  (65, 77),\n",
       "  (66, 78),\n",
       "  (68, 79),\n",
       "  (69, 80),\n",
       "  (70, 81),\n",
       "  (71, 82),\n",
       "  (72, 83),\n",
       "  (73, 84),\n",
       "  (74, 85),\n",
       "  (75, 86),\n",
       "  (76, 87),\n",
       "  (77, 88),\n",
       "  (78, 89),\n",
       "  (79, 90),\n",
       "  (80, 91),\n",
       "  (81, 92),\n",
       "  (82, 93),\n",
       "  (83, 94)],\n",
       " [(16, 80), (17, 81), (18, 82)]]"
      ]
     },
     "execution_count": 11,
     "metadata": {},
     "output_type": "execute_result"
    }
   ],
   "source": [
    "def GetBlastPairs(seq1, seq2):\n",
    "    output = NcbiblastpCommandline(query=seq1, subject=seq2, outfmt=\"6 qstart qend sstart send btop\")()[0]\n",
    "    outlines = output.splitlines()\n",
    "    outlists = [re.split(r'\\t+', line) for line in outlines]\n",
    "    \n",
    "    indices = [GetMatchesFromBlastTrace(*fasta) for fasta in outlists]\n",
    "    \n",
    "    return indices\n",
    "    \n",
    "blastPairs = GetBlastPairs(f\"seq_1.fasta\", f\"seq_2.fasta\")\n",
    "blastPairs"
   ]
  },
  {
   "cell_type": "code",
   "execution_count": 12,
   "id": "1b368cf1-6a86-48ee-a6f7-1a340993d806",
   "metadata": {},
   "outputs": [
    {
     "data": {
      "text/plain": [
       "[(3, 3)]"
      ]
     },
     "execution_count": 12,
     "metadata": {},
     "output_type": "execute_result"
    }
   ],
   "source": [
    "def intersection(lst1, lst2):\n",
    "    lst3 = [value for value in lst1 if value in lst2]\n",
    "    return lst3\n",
    "\n",
    "intersection([(1,1), (2,2), (3,3)], [(1,2), (3,3)])"
   ]
  },
  {
   "cell_type": "code",
   "execution_count": 13,
   "id": "71c46b3e-5164-4a8e-b747-b5cd56d8384d",
   "metadata": {
    "tags": []
   },
   "outputs": [
    {
     "data": {
      "text/plain": [
       "[(29, 41),\n",
       " (37, 49),\n",
       " (42, 54),\n",
       " (44, 56),\n",
       " (46, 58),\n",
       " (47, 59),\n",
       " (49, 61),\n",
       " (53, 65),\n",
       " (55, 67),\n",
       " (56, 68),\n",
       " (57, 69),\n",
       " (58, 70),\n",
       " (59, 71),\n",
       " (60, 72),\n",
       " (61, 73),\n",
       " (62, 74),\n",
       " (63, 75),\n",
       " (64, 76),\n",
       " (65, 77),\n",
       " (66, 78),\n",
       " (75, 86),\n",
       " (82, 93),\n",
       " (83, 94)]"
      ]
     },
     "execution_count": 13,
     "metadata": {},
     "output_type": "execute_result"
    }
   ],
   "source": [
    "mahdiPairs = [(0, 0),\n",
    " (9, 13),\n",
    " (10, 14),\n",
    " (12, 15),\n",
    " (13, 22),\n",
    " (14, 25),\n",
    " (26, 28),\n",
    " (29, 41),\n",
    " (32, 47),\n",
    " (37, 49),\n",
    " (39, 50),\n",
    " (40, 51),\n",
    " (42, 54),\n",
    " (44, 56),\n",
    " (46, 58),\n",
    " (47, 59),\n",
    " (49, 61),\n",
    " (52, 63),\n",
    " (53, 65),\n",
    " (54, 67),\n",
    " (55, 67),\n",
    " (56, 68),\n",
    " (57, 69),\n",
    " (58, 70),\n",
    " (59, 71),\n",
    " (60, 72),\n",
    " (61, 73),\n",
    " (62, 74),\n",
    " (63, 75),\n",
    " (64, 76),\n",
    " (65, 77),\n",
    " (66, 78),\n",
    " (72, 82),\n",
    " (75, 86),\n",
    " (79, 87),\n",
    " (80, 88),\n",
    " (82, 93),\n",
    " (83, 94),\n",
    " (84, 95),\n",
    " (85, 96),\n",
    " (86, 97),\n",
    " (87, 98),\n",
    " (90, 100),\n",
    " (92, 102),\n",
    " (94, 104),\n",
    " (96, 105)]\n",
    "\n",
    "intersection(blastPairs[0], mahdiPairs)"
   ]
  },
  {
   "cell_type": "code",
   "execution_count": 14,
   "id": "1f7fe9f7-508b-4ea2-a0a7-47b2486671b1",
   "metadata": {},
   "outputs": [
    {
     "data": {
      "text/plain": [
       "[]"
      ]
     },
     "execution_count": 14,
     "metadata": {},
     "output_type": "execute_result"
    }
   ],
   "source": [
    "intersection(blastPairs[1], mahdiPairs)"
   ]
  }
 ],
 "metadata": {
  "kernelspec": {
   "display_name": "Python 3 (ipykernel)",
   "language": "python",
   "name": "python3"
  },
  "language_info": {
   "codemirror_mode": {
    "name": "ipython",
    "version": 3
   },
   "file_extension": ".py",
   "mimetype": "text/x-python",
   "name": "python",
   "nbconvert_exporter": "python",
   "pygments_lexer": "ipython3",
   "version": "3.9.12"
  }
 },
 "nbformat": 4,
 "nbformat_minor": 5
}
